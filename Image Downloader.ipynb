{
 "cells": [
  {
   "cell_type": "code",
   "execution_count": null,
   "metadata": {},
   "outputs": [],
   "source": [
    "from google_images_download import google_images_download"
   ]
  },
  {
   "cell_type": "code",
   "execution_count": null,
   "metadata": {},
   "outputs": [],
   "source": [
    "# importing google_images_download module\n",
    "# creating object\n",
    "response = google_images_download.googleimagesdownload()\n",
    "\n",
    "def downloadimages(query):\n",
    "    # keywords is the search query\n",
    "    # format is the image file format\n",
    "    # limit is the number of images to be downloaded\n",
    "    # print urs is to print the image file url\n",
    "    # size is the image size which can\n",
    "    # be specified manually (\"large, medium, icon\")\n",
    "    # aspect ratio denotes the height width ratio\n",
    "    # of images to download. (\"tall, square, wide, panoramic\")\n",
    "    arguments = {\"keywords\": query,\n",
    "                 \"format\": \"jpg\",\n",
    "                 \"limit\": 4,\n",
    "                 \"print_urls\": True,\n",
    "                 \"size\": \"medium\",\n",
    "                 \"aspect_ratio\": \"panoramic\"}\n",
    "    try:\n",
    "        response.download(arguments)\n",
    "    # Handling File NotFound Error\n",
    "    except FileNotFoundError:\n",
    "        arguments = {\"keywords\": query,\n",
    "                     \"format\": \"jpg\",\n",
    "                     \"limit\": 4,\n",
    "                     \"print_urls\": True,\n",
    "                     \"size\": \"medium\"}\n",
    "        # Providing arguments for the searched query\n",
    "        try:\n",
    "            # Downloading the photos based\n",
    "            # on the given arguments\n",
    "            response.download(arguments)\n",
    "        except:\n",
    "            pass"
   ]
  },
  {
   "cell_type": "code",
   "execution_count": null,
   "metadata": {
    "scrolled": true
   },
   "outputs": [],
   "source": [
    "search_queries = ['dog', 'cat']\n",
    "\n",
    "# Driver Code\n",
    "for query in search_queries:\n",
    "    downloadimages(query)\n",
    "    print()"
   ]
  }
 ],
 "metadata": {
  "kernelspec": {
   "display_name": "Python 3",
   "language": "python",
   "name": "python3"
  },
  "language_info": {
   "codemirror_mode": {
    "name": "ipython",
    "version": 3
   },
   "file_extension": ".py",
   "mimetype": "text/x-python",
   "name": "python",
   "nbconvert_exporter": "python",
   "pygments_lexer": "ipython3",
   "version": "3.6.7"
  }
 },
 "nbformat": 4,
 "nbformat_minor": 2
}
